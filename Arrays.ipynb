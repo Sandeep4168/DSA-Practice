{
 "cells": [
  {
   "cell_type": "markdown",
   "metadata": {},
   "source": [
    "*Data Structures*"
   ]
  },
  {
   "cell_type": "markdown",
   "metadata": {},
   "source": [
    "**1.Arrays and Strings**"
   ]
  },
  {
   "cell_type": "markdown",
   "metadata": {},
   "source": [
    "***Hash Tables***\n",
    "Hash tables are the data structurethat maps keys to values for highly effiecient look up\n",
    "1. Compute the hash code of a Key and assign it to the index of the array, two hash codes can have the same value\n",
    "2. Then, map the hash code to an index of an array, This could be done with `Hash Function` using `hash(key) % array_length` \n",
    "3. at this index, there is liked lists with key and value\n",
    "\n",
    "Algorithm Analysis:\n",
    "in the worst case the runtime is `O(N)` N is the number of keys and in Best case Scenario can be `0(1)`\n",
    "\n",
    "| Function | Runtime|\n",
    "| ---       |-----   |\n",
    "|Insertion | `O(N)`|\n",
    "|Find      | `O(N)`|\n",
    "|Look up by index  | `O(1)`|\n",
    "|Look up  by value | `O(N)`|\n",
    "|Deletion  | `O(N)`|\n",
    "\n",
    "\n",
    "\n",
    "\n",
    "Note: In inserting the elements in an array, the inserting of N elements takes `0(N)` work total, Each insertion is `O(1)` on average\n"
   ]
  },
  {
   "cell_type": "code",
   "execution_count": 16,
   "metadata": {},
   "outputs": [],
   "source": [
    "test = {\n",
    "    'input':'apple',\n",
    "    'output' : False\n",
    "\n",
    "}"
   ]
  },
  {
   "cell_type": "markdown",
   "metadata": {},
   "source": [
    "Steps:\n",
    "1. Iterate over the string \n",
    "2. compare each character with left over string \n",
    "3. if the there a character is repeated then return false"
   ]
  },
  {
   "cell_type": "code",
   "execution_count": 17,
   "metadata": {},
   "outputs": [],
   "source": [
    "def isUnique(word):\n",
    "    sum = []\n",
    "    for i in word:\n",
    "        if i not in sum:\n",
    "            sum.append(i)\n",
    "    if len(sum) == len(word):\n",
    "        return True\n",
    "    return False \n",
    "\n",
    "\n",
    "\n"
   ]
  },
  {
   "cell_type": "code",
   "execution_count": 18,
   "metadata": {},
   "outputs": [
    {
     "data": {
      "text/plain": [
       "False"
      ]
     },
     "execution_count": 18,
     "metadata": {},
     "output_type": "execute_result"
    }
   ],
   "source": [
    "isUnique(test['input'])"
   ]
  },
  {
   "cell_type": "markdown",
   "metadata": {},
   "source": [
    "2. **Check Permutation** : Given two Strings, write a method to decide if one is a permutation of the other"
   ]
  },
  {
   "cell_type": "markdown",
   "metadata": {},
   "source": [
    "if two strings are permutations , then we know they have the same characters, but in the different order. Therefore, sorting the strings will put the characters from two permutations in the same order"
   ]
  },
  {
   "cell_type": "code",
   "execution_count": 21,
   "metadata": {},
   "outputs": [],
   "source": [
    "\n",
    "def checkPermutation(word1,word2):\n",
    "    word1 = list(sorted(word1))\n",
    "    word2 = list(sorted(word2))\n",
    "\n",
    "    if word1 != word2:\n",
    "        return False\n",
    "    return True\n"
   ]
  },
  {
   "cell_type": "code",
   "execution_count": 23,
   "metadata": {},
   "outputs": [
    {
     "data": {
      "text/plain": [
       "False"
      ]
     },
     "execution_count": 23,
     "metadata": {},
     "output_type": "execute_result"
    }
   ],
   "source": [
    "checkPermutation('apple','apples')"
   ]
  },
  {
   "cell_type": "markdown",
   "metadata": {},
   "source": [
    "**One Away:** There are three types of edits that can be performed on strings: insert a character,\n",
    "remove a character, or\n",
    "replace a character. Given two strings, write a function to check if they are \n",
    "one edit (or zero edits) away.\n",
    "EXAMPLE \n",
    "pale, pIe -> true\n",
    "pales, pale -> true \n",
    "pale, bale -> true\n",
    "pale, bake -> false "
   ]
  },
  {
   "cell_type": "code",
   "execution_count": 40,
   "metadata": {},
   "outputs": [],
   "source": [
    "def oneEditAway(first,second):\n",
    "    if(len(first)== len(second)):\n",
    "        return oneEditReplace(first,second)\n",
    "    elif(len(first) + 1== len(second)):\n",
    "        return oneEditInsert(first,second)\n",
    "    elif(len(first) - 1== len(second)):\n",
    "        return oneEditInsert(second,first)\n",
    "    return False\n",
    "\n",
    "def oneEditReplace(s1,s2):\n",
    "    foundDifference = False\n",
    "\n",
    "    for i in range(len(s1)):\n",
    "        if s1[i] != s2[i]:\n",
    "            if(foundDifference):\n",
    "                return False\n",
    "            foundDifference = True\n",
    "    return True\n",
    "\n",
    "def oneEditInsert(s1,s2):\n",
    "    index1 = 0\n",
    "    index2 = 0\n",
    "\n",
    "    while (index2 < len(s2) and index1 < len(s1)):\n",
    "        if s1[index1] != s2[index2]:\n",
    "            if index1 != index2:\n",
    "                return False\n",
    "            index2 += 1\n",
    "        else:\n",
    "            index1 += 1\n",
    "            index2 += 1\n",
    "    return True\n",
    "\n",
    "\n",
    "\n"
   ]
  },
  {
   "cell_type": "code",
   "execution_count": 41,
   "metadata": {},
   "outputs": [
    {
     "data": {
      "text/plain": [
       "True"
      ]
     },
     "execution_count": 41,
     "metadata": {},
     "output_type": "execute_result"
    }
   ],
   "source": [
    "oneEditAway('pale','bale')"
   ]
  },
  {
   "cell_type": "code",
   "execution_count": 42,
   "metadata": {},
   "outputs": [
    {
     "data": {
      "text/plain": [
       "True"
      ]
     },
     "execution_count": 42,
     "metadata": {},
     "output_type": "execute_result"
    }
   ],
   "source": [
    "oneEditAway('pales','pale')"
   ]
  }
 ],
 "metadata": {
  "interpreter": {
   "hash": "693c41230a544e7fd59294b3aa73f2bda0ca74f3580b1f22f9b855757e474400"
  },
  "kernelspec": {
   "display_name": "Python 3.8.8 ('stock')",
   "language": "python",
   "name": "python3"
  },
  "language_info": {
   "codemirror_mode": {
    "name": "ipython",
    "version": 3
   },
   "file_extension": ".py",
   "mimetype": "text/x-python",
   "name": "python",
   "nbconvert_exporter": "python",
   "pygments_lexer": "ipython3",
   "version": "3.8.5"
  },
  "orig_nbformat": 4
 },
 "nbformat": 4,
 "nbformat_minor": 2
}
