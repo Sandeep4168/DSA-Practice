{
 "cells": [
  {
   "cell_type": "markdown",
   "metadata": {},
   "source": [
    "![stack](Stack.png)"
   ]
  },
  {
   "cell_type": "markdown",
   "metadata": {},
   "source": [
    "A stack is a collection of objects that are inserted and removed according to the last-in, ﬁrst-out (LIFO) principle\n",
    "\n",
    "Example:\n",
    "Internet Web browsers store the addresses of recently visited sites\n",
    "in a stack. Each time a user visits a new site, that site’s address is “pushed” onto the stack of addresses. The browser then allows the user to “pop” back to previously visited sites using the “back” button.\n"
   ]
  },
  {
   "cell_type": "markdown",
   "metadata": {},
   "source": [
    "**Implementing a Stack using python's List**"
   ]
  },
  {
   "cell_type": "markdown",
   "metadata": {},
   "source": [
    "We will implement the Stack using underlying methods from the List in Python\n",
    "|Stack Method |Realization with Python list|\n",
    "|---|---|\n",
    "|S.push(e) |L.append(e)|\n",
    "|S.pop() |L.pop()|\n",
    "|S.top()| L[−1]|\n",
    "|S.is_empty() |len(L) == 0|\n",
    "|len(S)| len(L)|"
   ]
  },
  {
   "cell_type": "code",
   "execution_count": null,
   "metadata": {},
   "outputs": [],
   "source": [
    "class Empty(Exception):\n",
    "    pass\n",
    "\n",
    "class ArrayStack:\n",
    "\n",
    "    def __init__(self):\n",
    "        self._data=[]\n",
    "    \n",
    "    def __len__(self):\n",
    "        return len(self._data)\n",
    "    \n",
    "    def is_empty(self):\n",
    "        return len(self._data) == 0\n",
    "    \n",
    "    def push(self,e):\n",
    "        self._data.append(e)\n",
    "    \n",
    "    def top(self):\n",
    "\n",
    "        if self.is_empty():\n",
    "            raise Empty('Stack is empty')\n",
    "        return self._data[-1]\n",
    "    \n",
    "    def pop(self):\n",
    "        if self.is_empty():\n",
    "            raise Empty('Stack is empty')\n",
    "        return self._data.pop()\n",
    "\n"
   ]
  },
  {
   "cell_type": "markdown",
   "metadata": {},
   "source": [
    "**Algorithmic Analysis of Stack**"
   ]
  },
  {
   "cell_type": "markdown",
   "metadata": {},
   "source": [
    "|Operation| Running Time|\n",
    "|---|---|\n",
    "|S.push(e)| O(1)*|\n",
    "|S.pop()| O(1)|\n",
    "|S.top() |O(1)|\n",
    "|S.is empty()| O(1)|\n",
    "|len(S)| O(1)|"
   ]
  },
  {
   "cell_type": "markdown",
   "metadata": {},
   "source": [
    "**Queues**"
   ]
  },
  {
   "cell_type": "markdown",
   "metadata": {},
   "source": [
    "A Queue is a collection of objects that are inserted and removed according to the `first-in,first-out(FIFO)`"
   ]
  },
  {
   "cell_type": "markdown",
   "metadata": {},
   "source": [
    "**Q.enqueue(e)**: Add element e to the back of queue Q.\n",
    "**Q.dequeue()**: Remove and return the ﬁrst element from queue Q;\n",
    "an error occurs if the queue is empty."
   ]
  },
  {
   "cell_type": "markdown",
   "metadata": {},
   "source": [
    "We could use the syntax pop(0), as opposed to pop(),to intentionally remove the ﬁrst element from the list when dequeuing.\n",
    "\n",
    "The main disadvantage of this strategy is that whenever we use pop(0) to remove the first element, the elemnts present in the memory locations are moved up causing the runtime `O(N)`\n",
    "\n",
    "The next best approach is to create an empty list with value as `None` and We can build a queue that has relatively few\n",
    "elements, yet which are stored in an arbitrarily large list. This occurs, for example,\n",
    "if we repeatedly enqueue a new element and then dequeue another (allowing the\n",
    "front to drift rightward). Over time, the size of the underlying list would grow to\n",
    "`O(m)` where `m` is the total number of enqueue operations since the creation of the\n",
    "queue, rather than the current number of elements in the queue."
   ]
  },
  {
   "cell_type": "markdown",
   "metadata": {},
   "source": [
    "### A Python Queue Implementation "
   ]
  },
  {
   "cell_type": "markdown",
   "metadata": {},
   "source": [
    "**_data**: is a reference to a list instance with a ﬁxed capacity.\n",
    "\n",
    "**_size**: is an integer representing the current number of elements stored in the queue (as opposed to the length of the\n",
    "data list).\n",
    "\n",
    "**_front**: is an integer that represents the index within data of the ﬁrst element of the queue (assuming the queue is not empty).\n"
   ]
  },
  {
   "cell_type": "code",
   "execution_count": 5,
   "metadata": {},
   "outputs": [],
   "source": [
    "class ArrayQueue:\n",
    "    DEFAULT_CAPACITY = 10\n",
    "\n",
    "    def __init__(self):\n",
    "        self._data = [None] * ArrayQueue.DEFAULT_CAPACITY\n",
    "        self._size = 0\n",
    "        self._front = 0\n",
    "\n",
    "    def __len__(self):\n",
    "        return self._size\n",
    "    \n",
    "    def is_empty(self):\n",
    "        return self._size == 0\n",
    "    \n",
    "    def first(self):\n",
    "        \"\"\"\n",
    "        Return the first element, but do not remove, Raise exception if the queue is empty\n",
    "        \"\"\"\n",
    "\n",
    "        if self.is_empty:\n",
    "            raise Empty(\"Queue is empty\")\n",
    "        return self._data[self._front]\n",
    "    \n",
    "    def dequeue(self):\n",
    "        '''\n",
    "        remove and return the first element of the queue\n",
    "        '''\n",
    "        if self.is_empty:\n",
    "            raise Empty(\"Queue is empty\")\n",
    "        answer = self._data[self._front]\n",
    "        self._data[self._front] = None\n",
    "        self._front = (self._front + 1) % len(self._data)\n",
    "        self._size -= 1\n",
    "        return answer\n",
    "\n",
    "    def enqueue(self, e):\n",
    "        '''add an element to the back of queue'''\n",
    "        if self._size == len(self._data):\n",
    "            self._resize(2 * len(self._data))\n",
    "        avail = (self._front + self._size) % len(self._data)\n",
    "        self._data[avail] = e\n",
    "        self._size += 1\n",
    "\n",
    "    def _resize(self,cap):\n",
    "        ''' Resize to a new list of capacity >= len(self)'''\n",
    "        old = self._data\n",
    "        self._data = [None] * cap\n",
    "        walk = self._front\n",
    "        for k in range(self._size):\n",
    "            self._data[k] = old[k]\n",
    "            walk = ( 1 + walk ) % len(old)\n",
    "        self._front = 0\n",
    "\n",
    "    def __getitem__(self,i):\n",
    "        return self._data[i]\n",
    "\n",
    "\n",
    "\n",
    "\n",
    "\n"
   ]
  },
  {
   "cell_type": "code",
   "execution_count": 9,
   "metadata": {},
   "outputs": [],
   "source": [
    "queue = ArrayQueue()\n",
    "queue.enqueue(\"Iron Man\")\n",
    "queue.enqueue(\"Captain America\")\n",
    "queue.enqueue(\"Hulk\")\n"
   ]
  },
  {
   "cell_type": "markdown",
   "metadata": {},
   "source": [
    "### Algorithmic Analysis"
   ]
  },
  {
   "cell_type": "markdown",
   "metadata": {},
   "source": [
    "|Operation| Running Time|\n",
    "|---|---|\n",
    "|Q.enqueue(e)| O(1)*|\n",
    "|Q.dequeue() |O(1)*|\n",
    "|Q.ﬁrst() |O(1)|\n",
    "|Q.is empty()| O(1)|\n",
    "|len(Q)| O(1)|\n",
    "| *amortised|\n"
   ]
  },
  {
   "cell_type": "markdown",
   "metadata": {},
   "source": [
    "### Interview Questions"
   ]
  },
  {
   "cell_type": "markdown",
   "metadata": {},
   "source": [
    "**Three in One**: Describe how you could use a single array to implement three stacks. "
   ]
  },
  {
   "cell_type": "code",
   "execution_count": null,
   "metadata": {},
   "outputs": [],
   "source": []
  }
 ],
 "metadata": {
  "interpreter": {
   "hash": "693c41230a544e7fd59294b3aa73f2bda0ca74f3580b1f22f9b855757e474400"
  },
  "kernelspec": {
   "display_name": "Python 3.8.5 ('stock')",
   "language": "python",
   "name": "python3"
  },
  "language_info": {
   "codemirror_mode": {
    "name": "ipython",
    "version": 3
   },
   "file_extension": ".py",
   "mimetype": "text/x-python",
   "name": "python",
   "nbconvert_exporter": "python",
   "pygments_lexer": "ipython3",
   "version": "3.8.5"
  },
  "orig_nbformat": 4
 },
 "nbformat": 4,
 "nbformat_minor": 2
}
